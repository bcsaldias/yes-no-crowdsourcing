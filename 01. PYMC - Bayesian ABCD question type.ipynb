{
 "cells": [
  {
   "cell_type": "code",
   "execution_count": 1,
   "metadata": {},
   "outputs": [],
   "source": [
    "import numpy as np\n",
    "import pymc3 as pm\n",
    "from scipy import stats\n",
    "from custom_metrics import *\n",
    "import matplotlib.pyplot as plt\n",
    "%matplotlib inline\n",
    "import pandas as pd\n",
    "from IPython.display import Image, display\n",
    "from scipy.special import gammaln ,digamma\n",
    "from tqdm import tqdm\n",
    "import sys"
   ]
  },
  {
   "cell_type": "markdown",
   "metadata": {},
   "source": [
    "<h1><center>A Probabilistic Model for \"Yes\" or  \"No\" Queries:  \n",
    "Crowdsourcing Multi-Class Classification Tasks </center></h1> \n",
    "<h2><center>Compare to Standard Complete ABCD question type</center></h2>"
   ]
  },
  {
   "cell_type": "markdown",
   "metadata": {},
   "source": [
    "**1. Select the folder data:**"
   ]
  },
  {
   "cell_type": "code",
   "execution_count": 2,
   "metadata": {},
   "outputs": [],
   "source": [
    "selected_folder = './catalina/'"
   ]
  },
  {
   "cell_type": "markdown",
   "metadata": {},
   "source": [
    "**2. Load the data:**"
   ]
  },
  {
   "cell_type": "code",
   "execution_count": 3,
   "metadata": {
    "collapsed": true
   },
   "outputs": [],
   "source": [
    "# users + number of YN question selected for them as.\n",
    "info_experts = pd.read_csv(selected_folder+'users.csv') "
   ]
  },
  {
   "cell_type": "code",
   "execution_count": 4,
   "metadata": {},
   "outputs": [],
   "source": [
    "# responses for the YN queries\n",
    "votes = pd.read_csv(selected_folder+'votes_yn.csv') \n",
    "\n",
    "# objects to be classified\n",
    "objects = pd.read_csv(selected_folder+'objects.csv')\n",
    "# picking only object which were asked for both query types\n",
    "objects = objects[objects._abc | objects._training]\n",
    "\n",
    "# users + number of YN question selected for them as.\n",
    "info_experts = pd.read_csv(selected_folder+'users.csv') \n",
    "info_experts = info_experts.set_index('id')"
   ]
  },
  {
   "cell_type": "code",
   "execution_count": 5,
   "metadata": {},
   "outputs": [
    {
     "name": "stdout",
     "output_type": "stream",
     "text": [
      "Training set size 41\n",
      "Testing set size 80\n",
      "Number of objecs required ABCD and YN votes 80\n"
     ]
    }
   ],
   "source": [
    "print(\"Training set size {}\".format(objects._training.sum()))\n",
    "print(\"Testing set size {}\".format(objects._validation.sum()))\n",
    "print(\"Number of objecs required ABCD and YN votes {}\".format(objects._abc.sum()))"
   ]
  },
  {
   "cell_type": "code",
   "execution_count": 6,
   "metadata": {
    "collapsed": true
   },
   "outputs": [],
   "source": [
    "# Selecting the users who complete at least 70% of their contest's questions:\n",
    "number_of_given_answers = dict(votes.expert_id.value_counts())\n",
    "info_experts['percentage_done'] = 0\n",
    "for key in number_of_given_answers:\n",
    "    _total_question_created_for_this_expert = float(info_experts.loc[key].initial_yn_questions)\n",
    "    info_experts.loc[key].percentage_done = float(number_of_given_answers[key])/_total_question_created_for_this_expert\n",
    "info_experts = info_experts.reset_index()\n",
    "info_experts = info_experts[info_experts.percentage_done >= .7]"
   ]
  },
  {
   "cell_type": "markdown",
   "metadata": {},
   "source": [
    "**3 .Selecting data for running the model:**"
   ]
  },
  {
   "cell_type": "code",
   "execution_count": 7,
   "metadata": {
    "collapsed": true
   },
   "outputs": [],
   "source": [
    "# Selected annotators\n",
    "experts = info_experts.id.values\n",
    "\n",
    "# Filtering the votes\n",
    "votes = votes[votes.expert_id.isin(experts)]\n",
    "\n",
    "o_columns = objects[['catalina_id','Var_Type','_training','_validation']]"
   ]
  },
  {
   "cell_type": "code",
   "execution_count": 8,
   "metadata": {},
   "outputs": [
    {
     "data": {
      "text/plain": [
       "(array([19, 10,  9, 12,  6,  4, 13, 14]), 8)"
      ]
     },
     "execution_count": 8,
     "metadata": {},
     "output_type": "execute_result"
    }
   ],
   "source": [
    "experts, experts.shape[0]"
   ]
  },
  {
   "cell_type": "code",
   "execution_count": 9,
   "metadata": {},
   "outputs": [
    {
     "data": {
      "text/plain": [
       "array(['CEP', 'EB', 'LPV', 'RRLYR'], dtype=object)"
      ]
     },
     "execution_count": 9,
     "metadata": {},
     "output_type": "execute_result"
    }
   ],
   "source": [
    "o_columns.Var_Type.unique()"
   ]
  },
  {
   "cell_type": "code",
   "execution_count": 10,
   "metadata": {
    "collapsed": true
   },
   "outputs": [],
   "source": [
    "# Number of possible classes\n",
    "K = o_columns.Var_Type.unique().shape[0]\n",
    "\n",
    "# Number of annotators\n",
    "J = experts.shape[0]\n",
    "\n",
    "# Fit the annotators id with a sequential number\n",
    "inv_experts_id = dict(zip(experts, range(J)))\n",
    "\n",
    "# Fit the classes names with a sequential number\n",
    "classes_dict = dict(zip(range(K),list(o_columns.Var_Type.unique())))\n",
    "inv_classes_dict = {classes_dict[a]:a for a in classes_dict}"
   ]
  },
  {
   "cell_type": "markdown",
   "metadata": {},
   "source": [
    "# I. Data Training Credibility Stage"
   ]
  },
  {
   "cell_type": "code",
   "execution_count": 11,
   "metadata": {
    "collapsed": true
   },
   "outputs": [],
   "source": [
    "# Getting the true classes' dirstribution\n",
    "Ns_dict = dict(o_columns[o_columns._training].Var_Type.value_counts())\n",
    "Ns = np.array([Ns_dict[classes_dict[i]] for i in classes_dict])\n",
    "N = np.sum(Ns)\n",
    "\n",
    "# Getting the true proportion classes' dirstribution\n",
    "p = Ns / N\n",
    "\n",
    "# LABELS GROUND TRUTH - TRAINING SET\n",
    "zt = np.array([inv_classes_dict[_] for _ in o_columns[o_columns._training].Var_Type])"
   ]
  },
  {
   "cell_type": "code",
   "execution_count": 12,
   "metadata": {
    "collapsed": true
   },
   "outputs": [],
   "source": [
    "# Generatting the r matrix of votes from the source data\n",
    "def matrix_votes(J, N, M, o_columns, votes):\n",
    "    r_ = np.zeros((J, N, M, 2))\n",
    "    for i in range(o_columns.shape[0]):\n",
    "        instance = o_columns.iloc[i]\n",
    "        _votes = votes[votes.object_id == instance.catalina_id]\n",
    "        for v in range(_votes.shape[0]):\n",
    "            vote = _votes.iloc[v]\n",
    "            r_[inv_experts_id[vote.expert_id], i,  inv_classes_dict[vote.question], 1-vote.value] = 1\n",
    "    return r_"
   ]
  },
  {
   "cell_type": "code",
   "execution_count": 13,
   "metadata": {
    "collapsed": true
   },
   "outputs": [],
   "source": [
    "# Getting the votes for the users KNOWN LABELS - TRAINING PART\n",
    "r_true = matrix_votes(J, N, K, o_columns[o_columns._training], votes)  "
   ]
  },
  {
   "cell_type": "markdown",
   "metadata": {},
   "source": [
    "# II. Data Testing Labeling Stage"
   ]
  },
  {
   "cell_type": "code",
   "execution_count": 14,
   "metadata": {
    "collapsed": true
   },
   "outputs": [],
   "source": [
    "# Getting the true classes' dirstribution\n",
    "Ns_test_dict = dict(o_columns[~o_columns._training].Var_Type.value_counts())\n",
    "Ns_test = np.array([Ns_test_dict[classes_dict[i]] for i in classes_dict])\n",
    "N_test = Ns_test.sum()\n",
    "\n",
    "# Getting the true proportion classes' dirstribution\n",
    "p_test = Ns_test/N_test\n",
    "\n",
    "# LABELS GROUND TRUTH - TESTING SET\n",
    "zt_test = np.array([inv_classes_dict[_] for _ in o_columns[~o_columns._training].Var_Type])"
   ]
  },
  {
   "cell_type": "code",
   "execution_count": 15,
   "metadata": {
    "collapsed": true
   },
   "outputs": [],
   "source": [
    "# Getting the votes for the users UKNOWN LABELS - TESTING PART\n",
    "r_test = matrix_votes(J, N_test, K, o_columns[~o_columns._training], votes)  "
   ]
  },
  {
   "cell_type": "markdown",
   "metadata": {},
   "source": [
    "# III. YN - PYMC IMPLEMENTATION"
   ]
  },
  {
   "cell_type": "markdown",
   "metadata": {},
   "source": [
    "### III. a) YN implementation - Credibility"
   ]
  },
  {
   "cell_type": "code",
   "execution_count": 16,
   "metadata": {},
   "outputs": [
    {
     "name": "stderr",
     "output_type": "stream",
     "text": [
      "100%|██████████| 20000/20000 [00:06<00:00, 3002.91it/s]\n"
     ]
    }
   ],
   "source": [
    "ALPHA = .5\n",
    "BETA = .5\n",
    "\n",
    "with pm.Model() as model: \n",
    "    \n",
    "    theta = pm.Beta('theta', alpha=ALPHA, beta=BETA, shape=(J, K, K))\n",
    "    z = pm.Categorical('z', p=p , observed=zt, shape=N)\n",
    "\n",
    "    # EQUATION (4.3)\n",
    "    def likelihood_Pt_rz(value, theta=theta, zt=z):\n",
    "        l=np.log(theta[:, zt,:]**value[:,:,:,0] * (1-theta[:,zt,:])**(value[:,:,:,1]))\n",
    "        return l.sum()\n",
    "    \n",
    "    r = pm.DensityDist('r', likelihood_Pt_rz, observed=(r_true))\n",
    "    \n",
    "with model:\n",
    "    step = pm.Metropolis([theta])\n",
    "    trace = pm.sample(20000, step)"
   ]
  },
  {
   "cell_type": "code",
   "execution_count": 17,
   "metadata": {},
   "outputs": [
    {
     "data": {
      "text/plain": [
       "array([[<matplotlib.axes._subplots.AxesSubplot object at 0x7fad6015b780>,\n",
       "        <matplotlib.axes._subplots.AxesSubplot object at 0x7fad553530f0>]], dtype=object)"
      ]
     },
     "execution_count": 17,
     "metadata": {},
     "output_type": "execute_result"
    },
    {
     "data": {
      "image/png": "[encoded data removed]",
      "text/plain": [
       "<matplotlib.figure.Figure at 0x7fad5fd73f98>"
      ]
     },
     "metadata": {},
     "output_type": "display_data"
    }
   ],
   "source": [
    "pm.plots.traceplot(trace)"
   ]
  },
  {
   "cell_type": "markdown",
   "metadata": {},
   "source": [
    "### III. b) YN implementation - Labeling"
   ]
  },
  {
   "cell_type": "code",
   "execution_count": 18,
   "metadata": {
    "collapsed": true
   },
   "outputs": [],
   "source": [
    "# Using the parameters estimation from the Training Stage\n",
    "# as prior parameter for the Labeling Stage\n",
    "\n",
    "# This is one of the most important parts of the proposed model\n",
    "theta_val = trace[theta][-5000::20].mean(axis=0)\n",
    "theta_sd = trace[theta][-5000::20].std(axis=0)"
   ]
  },
  {
   "cell_type": "code",
   "execution_count": 19,
   "metadata": {},
   "outputs": [
    {
     "name": "stderr",
     "output_type": "stream",
     "text": [
      "100%|██████████| 3000/3000 [01:10<00:00, 42.68it/s]\n"
     ]
    }
   ],
   "source": [
    "with pm.Model() as model2: \n",
    "    \n",
    "    pi = pm.Dirichlet('pi', p)\n",
    "    z_unknown = pm.Categorical('z_unknown', p=pi, shape=N_test)\n",
    "    new_theta = pm.Beta('new_theta', mu=theta_val, sd=theta_sd, shape=(J, K, K))        \n",
    "\n",
    "    # EQUATION (3.2)\n",
    "    def likelihood_Pzt_r(value, zt=z_unknown, theta=new_theta, pzs=pi):\n",
    "        l = np.log(theta[:, zt,:]**value[:,:,:,0] * (1-theta[:,zt,:])**(value[:,:,:,1]))\n",
    "        return l.sum()\n",
    "    \n",
    "    r = pm.DensityDist('r', likelihood_Pzt_r, observed=(r_test))\n",
    "\n",
    "with model2:   \n",
    "    step1 = pm.Metropolis([new_theta, pi])\n",
    "    step2 = pm.CategoricalGibbsMetropolis([z_unknown])\n",
    "    \n",
    "    # for full convergence njobs should be about 10.\n",
    "    # for sppiding up the demo we use njobs=1\n",
    "    trace2 = pm.sample(3000, step=[step1, step2], njobs=1)"
   ]
  },
  {
   "cell_type": "code",
   "execution_count": 20,
   "metadata": {},
   "outputs": [
    {
     "name": "stdout",
     "output_type": "stream",
     "text": [
      "Credibility part TRUE proportion distribution [ 0.34146341  0.2195122   0.17073171  0.26829268]\n",
      "Labeling part TRUE proportion distribution [ 0.2375  0.2125  0.225   0.325 ]\n",
      "Labeling part LEARNED proportion distribution [ 0.14760714  0.246984    0.28418146  0.32122739]\n"
     ]
    }
   ],
   "source": [
    "print(\"Credibility part TRUE proportion distribution {}\".format(p))\n",
    "print(\"Labeling part TRUE proportion distribution {}\".format(p_test))\n",
    "print(\"Labeling part LEARNED proportion distribution {}\".format(trace2[pi][-100::10].mean(axis=0)))"
   ]
  },
  {
   "cell_type": "code",
   "execution_count": 21,
   "metadata": {},
   "outputs": [],
   "source": [
    "# MAP\n",
    "v, f = stats.mode(trace2[z_unknown][-500::10])\n",
    "result = v[0]"
   ]
  },
  {
   "cell_type": "code",
   "execution_count": 22,
   "metadata": {},
   "outputs": [
    {
     "name": "stdout",
     "output_type": "stream",
     "text": [
      "[[ 0.684  0.158  0.158  0.   ]\n",
      " [ 0.     1.     0.     0.   ]\n",
      " [ 0.     0.     1.     0.   ]\n",
      " [ 0.     0.     0.     1.   ]]\n"
     ]
    },
    {
     "data": {
      "image/png": "[encoded data removed]",
      "text/plain": [
       "<matplotlib.figure.Figure at 0x7fad38ae7dd8>"
      ]
     },
     "metadata": {},
     "output_type": "display_data"
    },
    {
     "name": "stdout",
     "output_type": "stream",
     "text": [
      "Acurracy score 0.925\n"
     ]
    },
    {
     "data": {
      "text/html": [
       "<table><tr><td>Metrics / Classes</td><td>CEP</td><td>EB</td><td>LPV</td><td>RRLYR</td></tr><tr><td>Precision score</td><td>1.0</td><td>0.85</td><td>0.857</td><td>1.0</td></tr><tr><td>Recall score</td><td>0.684</td><td>1.0</td><td>1.0</td><td>1.0</td></tr><tr><td>F score</td><td>0.813</td><td>0.919</td><td>0.923</td><td>1.0</td></tr></table>"
      ],
      "text/plain": [
       "[['Metrics / Classes', 'CEP', 'EB', 'LPV', 'RRLYR'],\n",
       " ['Precision score', 1.0, 0.84999999999999998, 0.85699999999999998, 1.0],\n",
       " ['Recall score', 0.68400000000000005, 1.0, 1.0, 1.0],\n",
       " ['F score',\n",
       "  0.81299999999999994,\n",
       "  0.91900000000000004,\n",
       "  0.92300000000000004,\n",
       "  1.0]]"
      ]
     },
     "execution_count": 22,
     "metadata": {},
     "output_type": "execute_result"
    }
   ],
   "source": [
    "draw_metrics(zt_test, result, [classes_dict[i] for i in range(K)])"
   ]
  },
  {
   "cell_type": "markdown",
   "metadata": {},
   "source": [
    "# IV. ABCD - PYMC IMPLEMENTATION"
   ]
  },
  {
   "cell_type": "markdown",
   "metadata": {},
   "source": [
    "### IV. a) ABCD implementation - Credibility"
   ]
  },
  {
   "cell_type": "code",
   "execution_count": 23,
   "metadata": {
    "collapsed": true
   },
   "outputs": [],
   "source": [
    "votes_abc = pd.read_csv(selected_folder+'votes_abcd.csv')\n",
    "votes_abc = votes_abc[votes_abc.expert_id.isin(experts)]"
   ]
  },
  {
   "cell_type": "code",
   "execution_count": 24,
   "metadata": {},
   "outputs": [],
   "source": [
    "# Generatting the ABCD matrix of votes from the source data\n",
    "def matrix_votes_abcd(J, N, K, o_columns, votes):\n",
    "    r_ = np.zeros((J, N, K))\n",
    "    for i in range(o_columns.shape[0]):\n",
    "        instance = o_columns.iloc[i]\n",
    "        _votes = votes[votes.object_id == instance.catalina_id]\n",
    "        for v in range(_votes.shape[0]):\n",
    "            vote = _votes.iloc[v]\n",
    "            r_[inv_experts_id[vote.expert_id], i,  inv_classes_dict[vote.value]] = 1\n",
    "    return r_"
   ]
  },
  {
   "cell_type": "code",
   "execution_count": 25,
   "metadata": {},
   "outputs": [],
   "source": [
    "# Getting the votes for the users KNOWN LABELS - TRAINING PART\n",
    "r_true = matrix_votes_abcd(J, N, K, o_columns[o_columns._training], votes_abc)  "
   ]
  },
  {
   "cell_type": "code",
   "execution_count": 26,
   "metadata": {
    "collapsed": true
   },
   "outputs": [],
   "source": [
    "crowd_J = J"
   ]
  },
  {
   "cell_type": "code",
   "execution_count": 27,
   "metadata": {},
   "outputs": [],
   "source": [
    "def get_classes(r):\n",
    "    return np.array([[_.tolist().index(1) for _ in expert] for expert in r])\n",
    "\n",
    "crowd_r = get_classes(r_true)\n",
    "\n",
    "data = np.zeros((crowd_J, K, K))\n",
    "for i in range(crowd_J):\n",
    "    data[i] = confusion_matrix(zt, crowd_r[i])\n",
    "    \n",
    "norm = np.array((data.reshape((crowd_J*K,K))/np.matrix(data.sum(2).reshape(crowd_J*K)).T)).reshape((crowd_J,K,K))\n",
    "obs = data.reshape((crowd_J*K,K)).sum(1).reshape((crowd_J,K))"
   ]
  },
  {
   "cell_type": "code",
   "execution_count": 28,
   "metadata": {},
   "outputs": [
    {
     "name": "stderr",
     "output_type": "stream",
     "text": [
      "100%|██████████| 20000/20000 [00:05<00:00, 3523.49it/s]\n"
     ]
    }
   ],
   "source": [
    "with pm.Model() as model:\n",
    "    theta = pm.Dirichlet('theta', np.ones(K)/K, shape=(crowd_J*K,K))\n",
    "    likel = pm.Multinomial('likel', obs.reshape((crowd_J*K)), theta, \n",
    "                           observed=data.reshape((crowd_J*K,K)), shape=(crowd_J*K,K))\n",
    "\n",
    "with model:\n",
    "    step = pm.Metropolis([theta,likel])\n",
    "    trace = pm.sample(20000, step)"
   ]
  },
  {
   "cell_type": "markdown",
   "metadata": {},
   "source": [
    "### IV. b) ABCD implementation - Labeling"
   ]
  },
  {
   "cell_type": "code",
   "execution_count": 29,
   "metadata": {
    "collapsed": true
   },
   "outputs": [],
   "source": [
    "r_test = matrix_votes_abcd(J, N_test, K, o_columns[~o_columns._training], votes_abc)  "
   ]
  },
  {
   "cell_type": "code",
   "execution_count": 30,
   "metadata": {},
   "outputs": [],
   "source": [
    "theta_val = trace[theta][-5000::20].mean(axis=0).reshape((crowd_J,K,K))\n",
    "theta_val= np.array((theta_val.reshape((crowd_J*K,K))/np.matrix(theta_val.sum(2).reshape(crowd_J*K)).T)).reshape((crowd_J,K,K))\n",
    "theta_sd = trace[theta][-5000::20].std(axis=0).reshape((crowd_J,K,K))"
   ]
  },
  {
   "cell_type": "code",
   "execution_count": 31,
   "metadata": {},
   "outputs": [],
   "source": [
    "crowd_r_u = get_classes(r_test)"
   ]
  },
  {
   "cell_type": "code",
   "execution_count": 32,
   "metadata": {},
   "outputs": [],
   "source": [
    "crowd_r_u = get_classes(r_test)\n",
    "\n",
    "data_test = np.zeros((crowd_J, K, K))\n",
    "for i in range(crowd_J):\n",
    "    data_test[i] = confusion_matrix(zt_test, crowd_r_u[i])\n",
    "data_test\n",
    "\n",
    "norm_test = np.array((data_test.reshape((crowd_J*K,K))/np.matrix(data_test.sum(2).reshape(crowd_J*K)).T)).reshape((crowd_J,K,K))\n",
    "obs_test = data_test.reshape((crowd_J*K,K)).sum(1).reshape((crowd_J,K))"
   ]
  },
  {
   "cell_type": "code",
   "execution_count": 34,
   "metadata": {},
   "outputs": [
    {
     "name": "stderr",
     "output_type": "stream",
     "text": [
      "100%|██████████| 5000/5000 [02:06<00:00, 39.47it/s]\n"
     ]
    }
   ],
   "source": [
    "with pm.Model() as model2: \n",
    "    pi = pm.Dirichlet('pi', p)\n",
    "    \n",
    "    z_unknown = pm.Categorical('z_unknown', p=pi, shape=(N_test))\n",
    "\n",
    "    new_theta = pm.Dirichlet('theta', theta_val, shape=(crowd_J,K,K))\n",
    "\n",
    "    def likelihood_Pzt_r(value, zt=z_unknown, theta=new_theta, pzs=pi):\n",
    "        l = np.log(theta[:, zt,:]**value)\n",
    "        return l.sum()\n",
    "\n",
    "    r = pm.DensityDist('r', likelihood_Pzt_r, observed=(r_test))\n",
    "\n",
    "with model2:\n",
    "    step0 = pm.Slice(pi)\n",
    "    step1 = pm.Metropolis([new_theta])\n",
    "    step2 = pm.CategoricalGibbsMetropolis([z_unknown])\n",
    "    trace2 = pm.sample(5000, step=[step0, step1, step2], njobs=1)"
   ]
  },
  {
   "cell_type": "code",
   "execution_count": 38,
   "metadata": {},
   "outputs": [
    {
     "data": {
      "text/plain": [
       "(array([ 0.34146341,  0.2195122 ,  0.17073171,  0.26829268]),\n",
       " array([ 0.2375,  0.2125,  0.225 ,  0.325 ]),\n",
       " array([ 0.14042533,  0.26713698,  0.26780912,  0.32462857]))"
      ]
     },
     "execution_count": 38,
     "metadata": {},
     "output_type": "execute_result"
    }
   ],
   "source": [
    "p_test = Ns_test/ Ns_test.sum()\n",
    "p, p_test, trace2[pi][1000::10].mean(axis=0)"
   ]
  },
  {
   "cell_type": "code",
   "execution_count": 39,
   "metadata": {
    "collapsed": true
   },
   "outputs": [],
   "source": [
    "_trace = trace2.get_values('z_unknown', chains=0)\n",
    "v, f = stats.mode(_trace[1000::10], 0)\n",
    "result = v.T"
   ]
  },
  {
   "cell_type": "code",
   "execution_count": 41,
   "metadata": {},
   "outputs": [
    {
     "name": "stdout",
     "output_type": "stream",
     "text": [
      "[[ 0.579  0.211  0.158  0.053]\n",
      " [ 0.     1.     0.     0.   ]\n",
      " [ 0.     0.     1.     0.   ]\n",
      " [ 0.     0.     0.     1.   ]]\n"
     ]
    },
    {
     "data": {
      "image/png": "[encoded data removed]",
      "text/plain": [
       "<matplotlib.figure.Figure at 0x7fad4ff4d2b0>"
      ]
     },
     "metadata": {},
     "output_type": "display_data"
    },
    {
     "name": "stdout",
     "output_type": "stream",
     "text": [
      "Acurracy score 0.9\n"
     ]
    },
    {
     "data": {
      "text/html": [
       "<table><tr><td>Metrics / Classes</td><td>CEP</td><td>EB</td><td>LPV</td><td>RRLYR</td></tr><tr><td>Precision score</td><td>1.0</td><td>0.81</td><td>0.857</td><td>0.963</td></tr><tr><td>Recall score</td><td>0.579</td><td>1.0</td><td>1.0</td><td>1.0</td></tr><tr><td>F score</td><td>0.733</td><td>0.895</td><td>0.923</td><td>0.981</td></tr></table>"
      ],
      "text/plain": [
       "[['Metrics / Classes', 'CEP', 'EB', 'LPV', 'RRLYR'],\n",
       " ['Precision score',\n",
       "  1.0,\n",
       "  0.81000000000000005,\n",
       "  0.85699999999999998,\n",
       "  0.96299999999999997],\n",
       " ['Recall score', 0.57899999999999996, 1.0, 1.0, 1.0],\n",
       " ['F score',\n",
       "  0.73299999999999998,\n",
       "  0.89500000000000002,\n",
       "  0.92300000000000004,\n",
       "  0.98099999999999998]]"
      ]
     },
     "execution_count": 41,
     "metadata": {},
     "output_type": "execute_result"
    }
   ],
   "source": [
    "draw_metrics(zt_test, result, [classes_dict[i] for i in range(K)])"
   ]
  },
  {
   "cell_type": "code",
   "execution_count": null,
   "metadata": {
    "collapsed": true
   },
   "outputs": [],
   "source": []
  },
  {
   "cell_type": "code",
   "execution_count": null,
   "metadata": {
    "collapsed": true
   },
   "outputs": [],
   "source": []
  }
 ],
 "metadata": {
  "kernelspec": {
   "display_name": "Python 3",
   "language": "python",
   "name": "python3"
  },
  "language_info": {
   "codemirror_mode": {
    "name": "ipython",
    "version": 3
   },
   "file_extension": ".py",
   "mimetype": "text/x-python",
   "name": "python",
   "nbconvert_exporter": "python",
   "pygments_lexer": "ipython3",
   "version": "3.7.1"
  }
 },
 "nbformat": 4,
 "nbformat_minor": 1
}
